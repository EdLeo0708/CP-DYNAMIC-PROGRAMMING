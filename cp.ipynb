{
 "cells": [
  {
   "cell_type": "code",
   "execution_count": 22,
   "metadata": {},
   "outputs": [
    {
     "name": "stdout",
     "output_type": "stream",
     "text": [
      "Insertion Sort: [10, 20, 30, 40, 50], Quantas trocas = 6\n",
      "Selection Sort: [10, 20, 30, 40, 50], Quantas trocas = 3\n",
      "Bubble Sort: [10, 20, 30, 40, 50], Quantas trocas = 3\n"
     ]
    }
   ],
   "source": [
    "# Insertion Sort com contagem de trocas\n",
    "def insertion_sort(arr):\n",
    "    n = len(arr)\n",
    "    trocas = 0\n",
    "    for i in range(1, n):\n",
    "        key = arr[i]\n",
    "        j = i - 1\n",
    "        while j >= 0 and arr[j] > key:\n",
    "            arr[j + 1] = arr[j]\n",
    "            trocas += 1\n",
    "            j -= 1\n",
    "        arr[j + 1] = key\n",
    "        if j + 1 != i:\n",
    "            trocas += 1\n",
    "    return arr, trocas\n",
    "\n",
    "# Selection Sort com contagem de trocas\n",
    "def selection_sort(arr):\n",
    "    n = len(arr)\n",
    "    trocas = 0\n",
    "    for i in range(n):\n",
    "        min_idx = i\n",
    "        for j in range(i + 1, n):\n",
    "            if arr[j] < arr[min_idx]:\n",
    "                min_idx = j\n",
    "        if min_idx != i:\n",
    "            arr[i], arr[min_idx] = arr[min_idx], arr[i]\n",
    "            trocas += 1\n",
    "    return arr, trocas\n",
    "\n",
    "# Bubble Sort com contagem de trocas\n",
    "def bubble_sort(arr):\n",
    "    n = len(arr)\n",
    "    trocas = 0\n",
    "    for i in range(n):\n",
    "        for j in range(0, n - i - 1):\n",
    "            if arr[j] > arr[j + 1]:\n",
    "                arr[j], arr[j + 1] = arr[j + 1], arr[j]\n",
    "                trocas += 1\n",
    "    return arr, trocas\n",
    "\n",
    "# Vetor inicial\n",
    "vetor = [20, 10, 50, 30, 40]\n",
    "\n",
    "# Aplicando os algoritmos\n",
    "insertion_sorted, insertion_trocas = insertion_sort(vetor.copy())\n",
    "selection_sorted, selection_trocas = selection_sort(vetor.copy())\n",
    "bubble_sorted, bubble_trocas = bubble_sort(vetor.copy())\n",
    "\n",
    "# Exibindo os resultados com quebras de linha\n",
    "print(f\"Insertion Sort: {insertion_sorted}, Quantas trocas = {insertion_trocas}\")\n",
    "print(f\"Selection Sort: {selection_sorted}, Quantas trocas = {selection_trocas}\")\n",
    "print(f\"Bubble Sort: {bubble_sorted}, Quantas trocas = {bubble_trocas}\")\n"
   ]
  },
  {
   "cell_type": "code",
   "execution_count": null,
   "metadata": {},
   "outputs": [],
   "source": [
    "# O insertion Possui o maior numero de trocas diferente do selection e o bubble sort que possuem 3 trocas "
   ]
  }
 ],
 "metadata": {
  "kernelspec": {
   "display_name": "Python 3",
   "language": "python",
   "name": "python3"
  },
  "language_info": {
   "codemirror_mode": {
    "name": "ipython",
    "version": 3
   },
   "file_extension": ".py",
   "mimetype": "text/x-python",
   "name": "python",
   "nbconvert_exporter": "python",
   "pygments_lexer": "ipython3",
   "version": "3.12.6"
  }
 },
 "nbformat": 4,
 "nbformat_minor": 2
}
